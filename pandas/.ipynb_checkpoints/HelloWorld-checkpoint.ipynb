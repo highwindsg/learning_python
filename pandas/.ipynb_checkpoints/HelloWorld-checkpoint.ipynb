{
 "cells": [
  {
   "cell_type": "code",
   "execution_count": 138,
   "metadata": {},
   "outputs": [
    {
     "data": {
      "text/plain": [
       "1.0"
      ]
     },
     "execution_count": 138,
     "metadata": {},
     "output_type": "execute_result"
    }
   ],
   "source": [
    "# Importing the pandas lib and set it as pd.\n",
    "import pandas as pd\n",
    "# Importing the Decision Tree algorithm machine learning method from Scikit-Learn's tree lib.\n",
    "from sklearn.tree import DecisionTreeClassifier\n",
    "# Importing the training, testing and spliting func method from Scikit-Learn's model selection lib.\n",
    "from sklearn.model_selection import train_test_split\n",
    "# Importing the accuracy_score func method from Scikit_Learn's metrics lib. This is for testing the\n",
    "# accuracy of the test data set.\n",
    "from sklearn.metrics import accuracy_score\n",
    "\n",
    "\n",
    "music_data = pd.read_csv(\"music.csv\")   # from pd use the .read_csv() and pass in the csv filename, and assign to\n",
    "                                        # var music_data.\n",
    "#music_data    # client call var obj music_data\n",
    "#print(\"\")\n",
    "X = music_data.drop(columns=[\"genre\"])  # from music_data, drop the column of genre, and assign the result to X.\n",
    "X    # client call var obj X\n",
    "#print(\"\")\n",
    "y = music_data[\"genre\"]\n",
    "#y    # client call var obj y\n",
    "\n",
    "# X-train and X_test are the input data sets for training and testing.\n",
    "# y_train and y_test are the output data sets for training and testing.\n",
    "\n",
    "X_train, X_test, y_train, y_test = train_test_split(X, y, test_size=0.2)    # 0.2 means using test data size of 20%)\n",
    "\n",
    "model = DecisionTreeClassifier()\n",
    "#model.fit(X, y)\n",
    "# To fit the X_train and y_train data sets into the training model.\n",
    "model.fit(X_train, y_train)\n",
    "\n",
    "# To find out what music does 21 yrs old make likes, and what 22 yrs old female likes,\n",
    "# where 1 = male and 0 = female.\n",
    "#predictions = model.predict([ [21, 1], [22, 0] ])\n",
    "predictions = model.predict(X_test)    # X_test contains input values for testing.\n",
    "#predictions    # client call var obj predictions.\n",
    "\n",
    "score = accuracy_score(y_test, predictions)\n",
    "score    # To keep re-running this output in Jupyter Notebook without returning a new line,\n",
    "         # press Ctrl+Enter\n"
   ]
  }
 ],
 "metadata": {
  "kernelspec": {
   "display_name": "Python 3",
   "language": "python",
   "name": "python3"
  },
  "language_info": {
   "codemirror_mode": {
    "name": "ipython",
    "version": 3
   },
   "file_extension": ".py",
   "mimetype": "text/x-python",
   "name": "python",
   "nbconvert_exporter": "python",
   "pygments_lexer": "ipython3",
   "version": "3.7.3"
  }
 },
 "nbformat": 4,
 "nbformat_minor": 2
}
